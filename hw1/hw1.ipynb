{
 "cells": [
  {
   "cell_type": "markdown",
   "id": "d36f5c6d",
   "metadata": {},
   "source": [
    "# Question 1\n",
    "\n",
    "In computer vision, image zooming is a process that enlarges or reduces an\n",
    "image while preserving or altering its details.\n",
    "You are provided with an image, einstein.jpg, and your task is to apply\n",
    "zooming with a factor of 2 using the following two methods: Pixel\n",
    "replication and Zero-order hold.\n",
    "\n",
    "## A) Describe each of the two methods (Pixel replication, Zero-order hold) for image zooming.\n",
    "## B) Implement Python code to perform zooming in on the image 'einstein.jpg' using a zoom factor of 2 for each of the two methods. Provide step-by-step explanations of your code for each method."
   ]
  },
  {
   "cell_type": "code",
   "execution_count": null,
   "id": "7dace524",
   "metadata": {},
   "outputs": [],
   "source": [
    "import cv2\n",
    "import matplotlib.pyplot as plt\n",
    "\n",
    "# --- Read the image in grayscale ---\n",
    "img = cv2.imread('./Required Files/einstein.jpg', cv2.IMREAD_GRAYSCALE)\n",
    "\n",
    "# --- Zoom the image using zero-order hold (nearest neighbor) ---\n",
    "zoom_factor = 2\n",
    "zoomed = cv2.resize(img, None, fx=zoom_factor, fy=zoom_factor, interpolation=cv2.INTER_NEAREST)\n",
    "\n",
    "# --- Print the shapes to verify the zoom ---\n",
    "print(\"Original shape:\", img.shape)\n",
    "print(\"Zoomed shape:\", zoomed.shape)\n",
    "\n",
    "# --- Create a figure for subplots with a specific size ---\n",
    "fig = plt.figure(figsize=(10, 6))  # Width=10 inches, Height=6 inches\n",
    "\n",
    "# --- Create subplots with different widths to emphasize zoom difference ---\n",
    "ax1 = plt.subplot2grid((1, 3), (0, 0))           # First subplot at row 0, column 0\n",
    "ax2 = plt.subplot2grid((1, 3), (0, 1), colspan=2) # Second subplot at row 0, column 1, spanning 2 columns\n",
    "\n",
    "# --- Display the original image ---\n",
    "ax1.imshow(img, cmap='gray', interpolation='none') # Show image without interpolation\n",
    "ax1.set_title('Original')                           # Set title\n",
    "ax1.axis('off')                                     # Remove axes for cleaner look\n",
    "\n",
    "# --- Display the zoomed image ---\n",
    "ax2.imshow(zoomed, cmap='gray', interpolation='none') # Show zoomed image without interpolation\n",
    "ax2.set_title(f'Zoomed ×{zoom_factor}')               # Set title\n",
    "ax2.axis('off')                                       # Remove axes\n",
    "\n",
    "# --- Show the figure with both subplots ---\n",
    "plt.show()"
   ]
  },
  {
   "cell_type": "markdown",
   "id": "02cadd99",
   "metadata": {},
   "source": [
    "## C) For each of the two methods, discuss their advantages and disadvantages.Consider aspects such as image quality, computational complexity, and suitability for different types of images.\n",
    "\n",
    "### Advantages\n",
    "- Simple to implement\n",
    "- Very fast\n",
    "\n",
    "### Disadvanteges\n",
    "- No smoothing or interpolation\n",
    "- Poor quality for large zoom factors"
   ]
  },
  {
   "cell_type": "markdown",
   "id": "1cbfe5b3",
   "metadata": {},
   "source": [
    "## D) Display the zoomed images for the two methods and report the results.Examine the effects of increasing the zoom factor (e.g., from 2 to 4) on image quality and detail preservation."
   ]
  },
  {
   "cell_type": "code",
   "execution_count": null,
   "id": "71240d27",
   "metadata": {},
   "outputs": [],
   "source": [
    "zoom_factor = 4\n",
    "zoomed_4x = cv2.resize(img, None, fx=zoom_factor, fy=zoom_factor, interpolation=cv2.INTER_NEAREST)\n",
    "# --- Get image dimensions ---\n",
    "height, width = zoomed_4x.shape\n",
    "\n",
    "# figsize in inches = pixels / dpi\n",
    "dpi = 100\n",
    "figsize = (width / dpi, height / dpi)  # width and height in inches\n",
    "\n",
    "plt.figure(figsize=figsize, dpi=dpi)\n",
    "plt.imshow(zoomed_4x, cmap='gray', interpolation='none')  # no interpolation\n",
    "plt.title(f'Zero-Order Hold (Zoom x{zoom_factor})')\n",
    "plt.axis('off')  # hide axes to see real pixel size\n",
    "plt.show()\n",
    "print(zoomed_4x.shape)\n"
   ]
  },
  {
   "cell_type": "markdown",
   "id": "68b11d65",
   "metadata": {},
   "source": [
    "## E) Suggest an improved zooming method and compare its results with the two experimented methods."
   ]
  },
  {
   "cell_type": "code",
   "execution_count": null,
   "id": "cba28ad2",
   "metadata": {},
   "outputs": [],
   "source": [
    "zoom_factor = 2\n",
    "\n",
    "# --- Bilinear interpolation zoom (smoother and improved quality) ---\n",
    "# cv2.resize with INTER_LINEAR computes a weighted average of neighboring pixels\n",
    "zoomed_bilinear = cv2.resize(img, None, fx=zoom_factor, fy=zoom_factor, interpolation=cv2.INTER_LINEAR)\n",
    "\n",
    "# --- Create a figure with 3 subplots side by side ---\n",
    "plt.figure(figsize=(15, 5))  # Width=15 inches, Height=5 inches\n",
    "\n",
    "# --- First subplot: Pixel replication / Zero-Order Hold\n",
    "plt.subplot(1, 2, 1)\n",
    "plt.title('Pixel Replication')\n",
    "plt.imshow(zoomed, cmap='gray', interpolation='none')\n",
    "\n",
    "# --- Third subplot: Bilinear interpolation ---\n",
    "plt.subplot(1, 2, 2)\n",
    "plt.title('Bilinear Interpolation (Improved)')\n",
    "plt.imshow(zoomed_bilinear, cmap='gray', interpolation='none')\n",
    "\n",
    "# --- Display all subplots ---\n",
    "plt.show()"
   ]
  },
  {
   "cell_type": "markdown",
   "id": "abf543ee",
   "metadata": {},
   "source": [
    "# Question 2\n",
    "You are given a low-contrast grayscale image, 'low_contrast.jpg', which has\n",
    "lost significant details due to insufficient contrast. Your task is to enhance the\n",
    "image using logarithmic and gamma correction techniques. Additionally, you\n",
    "need to plot the histograms of the original and enhanced images for\n",
    "comparison\n",
    "\n",
    "## A) Normalize the image to ensure its pixel values are within range (0 to 1)."
   ]
  },
  {
   "cell_type": "code",
   "execution_count": 51,
   "id": "bcf53ccf",
   "metadata": {},
   "outputs": [
    {
     "name": "stdout",
     "output_type": "stream",
     "text": [
      "Min pixel value: 0.0\n",
      "Max pixel value: 1.0\n"
     ]
    }
   ],
   "source": [
    "import numpy as np\n",
    "\n",
    "img2 = cv2.imread('./Required Files/low_contrast.jpg', cv2.IMREAD_GRAYSCALE)\n",
    "rows, cols = img.shape\n",
    "\n",
    "# --- Normalize pixel values to range [0,1]\n",
    "Xmin = img.min()\n",
    "Xmax = img.max()\n",
    "img_normalized = (img.astype(np.float32) - Xmin) / (Xmax - Xmin)\n",
    "\n",
    "# --- Optional: check min/max ---\n",
    "print(f\"Min pixel value: {img_normalized.min()}\")\n",
    "print(f\"Max pixel value: {img_normalized.max()}\")"
   ]
  }
 ],
 "metadata": {
  "kernelspec": {
   "display_name": "computer-vision",
   "language": "python",
   "name": "python3"
  },
  "language_info": {
   "codemirror_mode": {
    "name": "ipython",
    "version": 3
   },
   "file_extension": ".py",
   "mimetype": "text/x-python",
   "name": "python",
   "nbconvert_exporter": "python",
   "pygments_lexer": "ipython3",
   "version": "3.13.7"
  }
 },
 "nbformat": 4,
 "nbformat_minor": 5
}
